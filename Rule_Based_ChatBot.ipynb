{
  "nbformat": 4,
  "nbformat_minor": 0,
  "metadata": {
    "colab": {
      "provenance": [],
      "authorship_tag": "ABX9TyOfsnJJLdwYAZN+p283j/wS",
      "include_colab_link": true
    },
    "kernelspec": {
      "name": "python3",
      "display_name": "Python 3"
    },
    "language_info": {
      "name": "python"
    }
  },
  "cells": [
    {
      "cell_type": "markdown",
      "metadata": {
        "id": "view-in-github",
        "colab_type": "text"
      },
      "source": [
        "<a href=\"https://colab.research.google.com/github/ananyaluthra/ananyaluthra/blob/main/Rule_Based_ChatBot.ipynb\" target=\"_parent\"><img src=\"https://colab.research.google.com/assets/colab-badge.svg\" alt=\"Open In Colab\"/></a>"
      ]
    },
    {
      "cell_type": "code",
      "execution_count": 5,
      "metadata": {
        "id": "F2C9_4PEbKLA",
        "colab": {
          "base_uri": "https://localhost:8080/"
        },
        "outputId": "22d7de23-9142-4b38-9e40-f3cd6c9a6264"
      },
      "outputs": [
        {
          "output_type": "stream",
          "name": "stderr",
          "text": [
            "[nltk_data] Downloading package punkt to /root/nltk_data...\n",
            "[nltk_data]   Package punkt is already up-to-date!\n"
          ]
        }
      ],
      "source": [
        "import re\n",
        "import random\n",
        "import nltk\n",
        "nltk.download('punkt')\n",
        "from nltk.corpus import stopwords\n",
        "from nltk.tokenize import word_tokenize\n",
        "from nltk.stem import WordNetLemmatizer\n",
        "from sklearn.feature_extraction.text import TfidfVectorizer\n",
        "from sklearn.metrics.pairwise import cosine_similarity"
      ]
    },
    {
      "cell_type": "code",
      "source": [
        "nltk.download('wordnet')\n",
        "nltk.download('stopwords')"
      ],
      "metadata": {
        "colab": {
          "base_uri": "https://localhost:8080/"
        },
        "id": "89QLZ7puofE_",
        "outputId": "fa5e4df2-13a6-4849-ee64-dc324985fff7"
      },
      "execution_count": 6,
      "outputs": [
        {
          "output_type": "stream",
          "name": "stderr",
          "text": [
            "[nltk_data] Downloading package wordnet to /root/nltk_data...\n",
            "[nltk_data] Downloading package stopwords to /root/nltk_data...\n",
            "[nltk_data]   Package stopwords is already up-to-date!\n"
          ]
        },
        {
          "output_type": "execute_result",
          "data": {
            "text/plain": [
              "True"
            ]
          },
          "metadata": {},
          "execution_count": 6
        }
      ]
    },
    {
      "cell_type": "code",
      "source": [
        "from difflib import SequenceMatcher"
      ],
      "metadata": {
        "colab": {
          "base_uri": "https://localhost:8080/"
        },
        "id": "GU9XcEZM6WYF",
        "outputId": "903c1a05-8fd2-4f9e-e689-299ffd845670"
      },
      "execution_count": 17,
      "outputs": [
        {
          "output_type": "stream",
          "name": "stdout",
          "text": [
            "0.9285714285714286\n"
          ]
        }
      ]
    },
    {
      "cell_type": "code",
      "source": [
        "class ChatBot:\n",
        "  def quit(self):\n",
        "    print(\"Have a nice day!\")\n",
        "    quit()\n",
        "  def cards(self):\n",
        "    similarity=[]\n",
        "    card_list=[\"I have lost my card\", \"My card is blocked, I cannot make any transaction\",\" I want to reset the pin for my card\",\"A fraud has happened\",\"I want to apply for a new card\"]\n",
        "    self.query=input(\"Please describe the matter briefly.\")\n",
        "    for i in card_list:\n",
        "      s = SequenceMatcher(None,self.query,i)\n",
        "      similarity.append(s.ratio())\n",
        "    if max(similarity)>0:\n",
        "      n=similarity.index(max(similarity))\n",
        "      if n==0:\n",
        "        card_number=int(input(\"Please enter your card number below so that we can deactivate that card and reissue a new card.\"))\n",
        "        print(f\"Okay we have deactivated your card with {card_number}, you will get a new card issued by your name.\")\n",
        "      elif n==1:\n",
        "        print(\"Please wait while I contact you with next customer service respresentative\")\n",
        "      elif n==2:\n",
        "        card_number=int(input(\"Please enter your card number below so that we can deactivate that card and reissue a new card.\"))\n",
        "        card_pin=int(input(\"Enter current pin\"))\n",
        "        new_card_pin=int(input(\"Enter your new pin of 4 digits\"))\n",
        "        new_card_pin_confirm=int(input(\"Re-enter your new pin of 4 digits\"))\n",
        "        if new_card_pin!=new_card_pin_confirm:\n",
        "          print(\"Your pins do not match!\")\n",
        "          self.cards()\n",
        "        else:\n",
        "          print(f\"Your pin for {card_number} has been reset from {card_pin} to {new_card_pin}\")\n",
        "      elif n==3:\n",
        "         print(\"Please wait while I contact you with next customer service respresentative from Fraud Department\")\n",
        "      elif n==4:\n",
        "        print(\"Please refer to our website to know more about our services.\")\n",
        "    else:\n",
        "      print(\"Invalid response sorry!\")\n",
        "      self.greet()\n",
        "    self.quit()\n",
        "  def personalbanking(self):\n",
        "    personal_banking=[]\n",
        "    list1=[\"I want to know the due date for my loan\", \"I want to apply for other services\",\" I cannot pay this month\"]\n",
        "    self.query=input(\"Please describe the matter briefly.\")\n",
        "    for i in list1:\n",
        "      s = SequenceMatcher(None,self.query,i)\n",
        "      personal_banking.append(s.ratio())\n",
        "    if max(personal_banking)>0:\n",
        "      n=personal_banking.index(max(personal_banking))\n",
        "      if n==0:\n",
        "        client_number=int(input(\"Please enter your client number here\"))\n",
        "        print(f\"We have retrieved your loan details, you'll get the information receipt via email.\")\n",
        "      elif n==1:\n",
        "        print(\"Please refer to our website for our list of services\")\n",
        "      elif n==2:\n",
        "        print(\"Please wait while I connect you with  acustomer service representative\")\n",
        "    else:\n",
        "      print(\"Invalid response sorry!\")\n",
        "      self.greet()\n",
        "    self.quit()\n",
        "  def greet(self):\n",
        "    print(\"Hey! My name is Mila, I'm your new virtual assistant. I'll help you with your questions about our company.\\n Let's get to know you more.\")\n",
        "    self.name=input(\"What should I call you?\")\n",
        "    print(f\"Okay {self.name}, What can I help you with: \\n 1) Press 1 for Credit/Debit Card \\n 2) Press 2 to know more about Personal Banking\")\n",
        "    self.query=int(input(\"Enter your service number here\"))\n",
        "    if self.query==1:\n",
        "      self.cards()\n",
        "    elif self.query==2:\n",
        "      self.personalbanking()\n",
        "    else:\n",
        "      print(\"Sorry, invalid response\")\n",
        "      self.startagain=input(\"Do you want to start over again. Type Yes or No \")\n",
        "      if self.startagain==\"Yes\":\n",
        "        self.greet()\n",
        "      else:\n",
        "        print(\"Have a nice day!\")\n",
        "        quit()\n",
        "newbot=ChatBot()"
      ],
      "metadata": {
        "id": "3sz7HXyxbY58"
      },
      "execution_count": 36,
      "outputs": []
    },
    {
      "cell_type": "code",
      "source": [
        "newbot.greet()"
      ],
      "metadata": {
        "colab": {
          "base_uri": "https://localhost:8080/"
        },
        "id": "9ehR-q_OerVn",
        "outputId": "06c8c513-3beb-4303-fdec-cfc52f7f164a"
      },
      "execution_count": 37,
      "outputs": [
        {
          "output_type": "stream",
          "name": "stdout",
          "text": [
            "Hey! My name is Mila, I'm your new virtual assistant. I'll help you with your questions about our company.\n",
            " Let's get to know you more.\n",
            "What should I call you?Ananya\n",
            "Okay Ananya, What can I help you with: \n",
            " 1) Press 1 for Credit/Debit Card \n",
            " 2) Press 2 to know more about Personal Banking\n",
            "Enter your service number here1\n",
            "Please describe the matter briefly.I want to apply for a new card\n",
            "Please refer to our website to know more about our services.\n",
            "Have a nice day!\n"
          ]
        }
      ]
    },
    {
      "cell_type": "code",
      "source": [],
      "metadata": {
        "id": "bRV3mnwqexP_"
      },
      "execution_count": null,
      "outputs": []
    }
  ]
}